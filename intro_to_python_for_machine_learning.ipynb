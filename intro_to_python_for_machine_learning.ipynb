{
  "nbformat": 4,
  "nbformat_minor": 0,
  "metadata": {
    "colab": {
      "provenance": []
    },
    "kernelspec": {
      "name": "python3",
      "display_name": "Python 3"
    },
    "language_info": {
      "name": "python"
    }
  },
  "cells": [
    {
      "cell_type": "code",
      "execution_count": null,
      "metadata": {
        "id": "pDR2Zu0R0de8"
      },
      "outputs": [],
      "source": [
        "import pandas as pd"
      ]
    },
    {
      "cell_type": "code",
      "source": [
        "url = 'https://github.com/HamoyeHQ/HDSC-Introduction-to-Python-for-machine-learning/files/7768140/FoodBalanceSheets_E_Africa_NOFLAG.csv'"
      ],
      "metadata": {
        "id": "9D9wn0Fh1WlV"
      },
      "execution_count": null,
      "outputs": []
    },
    {
      "cell_type": "code",
      "source": [
        "df = pd.read_csv(url, encoding = \"latin-1\")"
      ],
      "metadata": {
        "id": "GiQekyh41ovF"
      },
      "execution_count": null,
      "outputs": []
    },
    {
      "cell_type": "code",
      "source": [
        "print(df)"
      ],
      "metadata": {
        "colab": {
          "base_uri": "https://localhost:8080/"
        },
        "id": "NHwfIJ2B7bu_",
        "outputId": "94816fb0-c9a8-48b3-a5d8-205fa44cf213"
      },
      "execution_count": null,
      "outputs": [
        {
          "output_type": "stream",
          "name": "stdout",
          "text": [
            "       Area Code      Area  Item Code           Item  Element Code  \\\n",
            "0              4   Algeria       2501     Population           511   \n",
            "1              4   Algeria       2501     Population          5301   \n",
            "2              4   Algeria       2901    Grand Total           664   \n",
            "3              4   Algeria       2901    Grand Total           674   \n",
            "4              4   Algeria       2901    Grand Total           684   \n",
            "...          ...       ...        ...            ...           ...   \n",
            "60938        181  Zimbabwe       2899  Miscellaneous          5142   \n",
            "60939        181  Zimbabwe       2899  Miscellaneous           645   \n",
            "60940        181  Zimbabwe       2899  Miscellaneous           664   \n",
            "60941        181  Zimbabwe       2899  Miscellaneous           674   \n",
            "60942        181  Zimbabwe       2899  Miscellaneous           684   \n",
            "\n",
            "                                      Element             Unit     Y2014  \\\n",
            "0               Total Population - Both sexes     1000 persons  38924.00   \n",
            "1                    Domestic supply quantity      1000 tonnes      0.00   \n",
            "2               Food supply (kcal/capita/day)  kcal/capita/day   3377.00   \n",
            "3      Protein supply quantity (g/capita/day)     g/capita/day     94.90   \n",
            "4          Fat supply quantity (g/capita/day)     g/capita/day     80.06   \n",
            "...                                       ...              ...       ...   \n",
            "60938                                    Food      1000 tonnes     42.00   \n",
            "60939     Food supply quantity (kg/capita/yr)               kg      3.06   \n",
            "60940           Food supply (kcal/capita/day)  kcal/capita/day      3.00   \n",
            "60941  Protein supply quantity (g/capita/day)     g/capita/day      0.10   \n",
            "60942      Fat supply quantity (g/capita/day)     g/capita/day      0.04   \n",
            "\n",
            "          Y2015     Y2016     Y2017     Y2018  \n",
            "0      39728.00  40551.00  41389.00  42228.00  \n",
            "1          0.00      0.00      0.00      0.00  \n",
            "2       3379.00   3372.00   3341.00   3322.00  \n",
            "3         94.35     94.72     92.82     91.83  \n",
            "4         79.36     77.40     80.19     77.28  \n",
            "...         ...       ...       ...       ...  \n",
            "60938     46.00     33.00     19.00     16.00  \n",
            "60939      3.33      2.35      1.33      1.08  \n",
            "60940      4.00      3.00      1.00      1.00  \n",
            "60941      0.11      0.08      0.04      0.04  \n",
            "60942      0.05      0.03      0.02      0.01  \n",
            "\n",
            "[60943 rows x 12 columns]\n"
          ]
        }
      ]
    },
    {
      "cell_type": "code",
      "source": [
        "df[['Y2017', 'Area']]"
      ],
      "metadata": {
        "colab": {
          "base_uri": "https://localhost:8080/",
          "height": 672
        },
        "id": "dSBKGcxx5cbV",
        "outputId": "6e59f673-e326-4441-a507-96336a5cb8cd"
      },
      "execution_count": null,
      "outputs": [
        {
          "output_type": "execute_result",
          "data": {
            "text/plain": [
              "          Y2017      Area\n",
              "0      41389.00   Algeria\n",
              "1          0.00   Algeria\n",
              "2       3341.00   Algeria\n",
              "3         92.82   Algeria\n",
              "4         80.19   Algeria\n",
              "...         ...       ...\n",
              "60938     19.00  Zimbabwe\n",
              "60939      1.33  Zimbabwe\n",
              "60940      1.00  Zimbabwe\n",
              "60941      0.04  Zimbabwe\n",
              "60942      0.02  Zimbabwe\n",
              "\n",
              "[60943 rows x 2 columns]"
            ],
            "text/html": [
              "\n",
              "  <div id=\"df-808f7da6-b7a2-4a73-b418-83721f8caa85\">\n",
              "    <div class=\"colab-df-container\">\n",
              "      <div>\n",
              "<style scoped>\n",
              "    .dataframe tbody tr th:only-of-type {\n",
              "        vertical-align: middle;\n",
              "    }\n",
              "\n",
              "    .dataframe tbody tr th {\n",
              "        vertical-align: top;\n",
              "    }\n",
              "\n",
              "    .dataframe thead th {\n",
              "        text-align: right;\n",
              "    }\n",
              "</style>\n",
              "<table border=\"1\" class=\"dataframe\">\n",
              "  <thead>\n",
              "    <tr style=\"text-align: right;\">\n",
              "      <th></th>\n",
              "      <th>Y2017</th>\n",
              "      <th>Area</th>\n",
              "    </tr>\n",
              "  </thead>\n",
              "  <tbody>\n",
              "    <tr>\n",
              "      <th>0</th>\n",
              "      <td>41389.00</td>\n",
              "      <td>Algeria</td>\n",
              "    </tr>\n",
              "    <tr>\n",
              "      <th>1</th>\n",
              "      <td>0.00</td>\n",
              "      <td>Algeria</td>\n",
              "    </tr>\n",
              "    <tr>\n",
              "      <th>2</th>\n",
              "      <td>3341.00</td>\n",
              "      <td>Algeria</td>\n",
              "    </tr>\n",
              "    <tr>\n",
              "      <th>3</th>\n",
              "      <td>92.82</td>\n",
              "      <td>Algeria</td>\n",
              "    </tr>\n",
              "    <tr>\n",
              "      <th>4</th>\n",
              "      <td>80.19</td>\n",
              "      <td>Algeria</td>\n",
              "    </tr>\n",
              "    <tr>\n",
              "      <th>...</th>\n",
              "      <td>...</td>\n",
              "      <td>...</td>\n",
              "    </tr>\n",
              "    <tr>\n",
              "      <th>60938</th>\n",
              "      <td>19.00</td>\n",
              "      <td>Zimbabwe</td>\n",
              "    </tr>\n",
              "    <tr>\n",
              "      <th>60939</th>\n",
              "      <td>1.33</td>\n",
              "      <td>Zimbabwe</td>\n",
              "    </tr>\n",
              "    <tr>\n",
              "      <th>60940</th>\n",
              "      <td>1.00</td>\n",
              "      <td>Zimbabwe</td>\n",
              "    </tr>\n",
              "    <tr>\n",
              "      <th>60941</th>\n",
              "      <td>0.04</td>\n",
              "      <td>Zimbabwe</td>\n",
              "    </tr>\n",
              "    <tr>\n",
              "      <th>60942</th>\n",
              "      <td>0.02</td>\n",
              "      <td>Zimbabwe</td>\n",
              "    </tr>\n",
              "  </tbody>\n",
              "</table>\n",
              "<p>60943 rows × 2 columns</p>\n",
              "</div>\n",
              "      <button class=\"colab-df-convert\" onclick=\"convertToInteractive('df-808f7da6-b7a2-4a73-b418-83721f8caa85')\"\n",
              "              title=\"Convert this dataframe to an interactive table.\"\n",
              "              style=\"display:none;\">\n",
              "        \n",
              "  <svg xmlns=\"http://www.w3.org/2000/svg\" height=\"24px\"viewBox=\"0 0 24 24\"\n",
              "       width=\"24px\">\n",
              "    <path d=\"M0 0h24v24H0V0z\" fill=\"none\"/>\n",
              "    <path d=\"M18.56 5.44l.94 2.06.94-2.06 2.06-.94-2.06-.94-.94-2.06-.94 2.06-2.06.94zm-11 1L8.5 8.5l.94-2.06 2.06-.94-2.06-.94L8.5 2.5l-.94 2.06-2.06.94zm10 10l.94 2.06.94-2.06 2.06-.94-2.06-.94-.94-2.06-.94 2.06-2.06.94z\"/><path d=\"M17.41 7.96l-1.37-1.37c-.4-.4-.92-.59-1.43-.59-.52 0-1.04.2-1.43.59L10.3 9.45l-7.72 7.72c-.78.78-.78 2.05 0 2.83L4 21.41c.39.39.9.59 1.41.59.51 0 1.02-.2 1.41-.59l7.78-7.78 2.81-2.81c.8-.78.8-2.07 0-2.86zM5.41 20L4 18.59l7.72-7.72 1.47 1.35L5.41 20z\"/>\n",
              "  </svg>\n",
              "      </button>\n",
              "      \n",
              "  <style>\n",
              "    .colab-df-container {\n",
              "      display:flex;\n",
              "      flex-wrap:wrap;\n",
              "      gap: 12px;\n",
              "    }\n",
              "\n",
              "    .colab-df-convert {\n",
              "      background-color: #E8F0FE;\n",
              "      border: none;\n",
              "      border-radius: 50%;\n",
              "      cursor: pointer;\n",
              "      display: none;\n",
              "      fill: #1967D2;\n",
              "      height: 32px;\n",
              "      padding: 0 0 0 0;\n",
              "      width: 32px;\n",
              "    }\n",
              "\n",
              "    .colab-df-convert:hover {\n",
              "      background-color: #E2EBFA;\n",
              "      box-shadow: 0px 1px 2px rgba(60, 64, 67, 0.3), 0px 1px 3px 1px rgba(60, 64, 67, 0.15);\n",
              "      fill: #174EA6;\n",
              "    }\n",
              "\n",
              "    [theme=dark] .colab-df-convert {\n",
              "      background-color: #3B4455;\n",
              "      fill: #D2E3FC;\n",
              "    }\n",
              "\n",
              "    [theme=dark] .colab-df-convert:hover {\n",
              "      background-color: #434B5C;\n",
              "      box-shadow: 0px 1px 3px 1px rgba(0, 0, 0, 0.15);\n",
              "      filter: drop-shadow(0px 1px 2px rgba(0, 0, 0, 0.3));\n",
              "      fill: #FFFFFF;\n",
              "    }\n",
              "  </style>\n",
              "\n",
              "      <script>\n",
              "        const buttonEl =\n",
              "          document.querySelector('#df-808f7da6-b7a2-4a73-b418-83721f8caa85 button.colab-df-convert');\n",
              "        buttonEl.style.display =\n",
              "          google.colab.kernel.accessAllowed ? 'block' : 'none';\n",
              "\n",
              "        async function convertToInteractive(key) {\n",
              "          const element = document.querySelector('#df-808f7da6-b7a2-4a73-b418-83721f8caa85');\n",
              "          const dataTable =\n",
              "            await google.colab.kernel.invokeFunction('convertToInteractive',\n",
              "                                                     [key], {});\n",
              "          if (!dataTable) return;\n",
              "\n",
              "          const docLinkHtml = 'Like what you see? Visit the ' +\n",
              "            '<a target=\"_blank\" href=https://colab.research.google.com/notebooks/data_table.ipynb>data table notebook</a>'\n",
              "            + ' to learn more about interactive tables.';\n",
              "          element.innerHTML = '';\n",
              "          dataTable['output_type'] = 'display_data';\n",
              "          await google.colab.output.renderOutput(dataTable, element);\n",
              "          const docLink = document.createElement('div');\n",
              "          docLink.innerHTML = docLinkHtml;\n",
              "          element.appendChild(docLink);\n",
              "        }\n",
              "      </script>\n",
              "    </div>\n",
              "  </div>\n",
              "  "
            ]
          },
          "metadata": {},
          "execution_count": 6
        },
        {
          "output_type": "stream",
          "name": "stdout",
          "text": [
            "Warning: total number of rows (60943) exceeds max_rows (20000). Limiting to first (20000) rows.\n"
          ]
        }
      ]
    },
    {
      "cell_type": "code",
      "source": [
        "df_grouped = df.groupby(by=\"Area\")[\"Y2017\"].sum()"
      ],
      "metadata": {
        "id": "a6x3VvlB5chY"
      },
      "execution_count": null,
      "outputs": []
    },
    {
      "cell_type": "code",
      "source": [
        "print(df_grouped)"
      ],
      "metadata": {
        "colab": {
          "base_uri": "https://localhost:8080/"
        },
        "id": "TeRleZUA6fhP",
        "outputId": "ac22a600-6a75-4275-8c34-61c51d1807df"
      },
      "execution_count": null,
      "outputs": [
        {
          "output_type": "stream",
          "name": "stdout",
          "text": [
            "Area\n",
            "Algeria                         325644.27\n",
            "Angola                          229159.57\n",
            "Benin                           124771.22\n",
            "Botswana                         22101.30\n",
            "Burkina Faso                    101855.07\n",
            "Cabo Verde                       14650.74\n",
            "Cameroon                        232030.43\n",
            "Central African Republic         29937.00\n",
            "Chad                             71594.68\n",
            "Comoros                             59.84\n",
            "Congo                            41181.68\n",
            "Côte d'Ivoire                   224599.01\n",
            "Djibouti                         22729.91\n",
            "Egypt                           866379.92\n",
            "Eswatini                         54343.33\n",
            "Ethiopia                        448683.76\n",
            "Ethiopia PDR                         0.00\n",
            "Gabon                            27979.64\n",
            "Gambia                           23154.18\n",
            "Ghana                           337599.06\n",
            "Guinea                           98138.87\n",
            "Guinea-Bissau                    19102.77\n",
            "Kenya                           264660.66\n",
            "Lesotho                          21267.96\n",
            "Liberia                          29342.20\n",
            "Madagascar                      131197.73\n",
            "Malawi                          181098.71\n",
            "Mali                            149928.33\n",
            "Mauritania                      156665.46\n",
            "Mauritius                        51114.83\n",
            "Morocco                         388495.36\n",
            "Mozambique                      161407.98\n",
            "Namibia                          29874.89\n",
            "Niger                           126707.58\n",
            "Nigeria                        1483268.23\n",
            "Rwanda                           73663.69\n",
            "Sao Tome and Principe            12662.63\n",
            "Senegal                          95681.15\n",
            "Seychelles                         442.34\n",
            "Sierra Leone                     55311.33\n",
            "South Africa                    517590.54\n",
            "Sudan                           239931.92\n",
            "Sudan (former)                       0.00\n",
            "Togo                             49841.88\n",
            "Tunisia                         124167.20\n",
            "Uganda                          213950.38\n",
            "United Republic of Tanzania     322616.85\n",
            "Zambia                          103223.77\n",
            "Zimbabwe                         75919.34\n",
            "Name: Y2017, dtype: float64\n"
          ]
        }
      ]
    },
    {
      "cell_type": "code",
      "source": [
        "df[['Y2015', 'Area']]"
      ],
      "metadata": {
        "colab": {
          "base_uri": "https://localhost:8080/",
          "height": 2286
        },
        "id": "ceCMa8vH8Bgr",
        "outputId": "24e58904-b5c9-4bb3-bf5d-e1d3b2855566"
      },
      "execution_count": null,
      "outputs": [
        {
          "output_type": "execute_result",
          "data": {
            "text/plain": [
              "          Y2015      Area\n",
              "0      39728.00   Algeria\n",
              "1          0.00   Algeria\n",
              "2       3379.00   Algeria\n",
              "3         94.35   Algeria\n",
              "4         79.36   Algeria\n",
              "...         ...       ...\n",
              "60938     46.00  Zimbabwe\n",
              "60939      3.33  Zimbabwe\n",
              "60940      4.00  Zimbabwe\n",
              "60941      0.11  Zimbabwe\n",
              "60942      0.05  Zimbabwe\n",
              "\n",
              "[60943 rows x 2 columns]"
            ],
            "text/html": [
              "\n",
              "  <div id=\"df-6d8c3a5a-e6d5-404e-9aa2-d278239f5207\">\n",
              "    <div class=\"colab-df-container\">\n",
              "      <div>\n",
              "<style scoped>\n",
              "    .dataframe tbody tr th:only-of-type {\n",
              "        vertical-align: middle;\n",
              "    }\n",
              "\n",
              "    .dataframe tbody tr th {\n",
              "        vertical-align: top;\n",
              "    }\n",
              "\n",
              "    .dataframe thead th {\n",
              "        text-align: right;\n",
              "    }\n",
              "</style>\n",
              "<table border=\"1\" class=\"dataframe\">\n",
              "  <thead>\n",
              "    <tr style=\"text-align: right;\">\n",
              "      <th></th>\n",
              "      <th>Y2015</th>\n",
              "      <th>Area</th>\n",
              "    </tr>\n",
              "  </thead>\n",
              "  <tbody>\n",
              "    <tr>\n",
              "      <th>0</th>\n",
              "      <td>39728.00</td>\n",
              "      <td>Algeria</td>\n",
              "    </tr>\n",
              "    <tr>\n",
              "      <th>1</th>\n",
              "      <td>0.00</td>\n",
              "      <td>Algeria</td>\n",
              "    </tr>\n",
              "    <tr>\n",
              "      <th>2</th>\n",
              "      <td>3379.00</td>\n",
              "      <td>Algeria</td>\n",
              "    </tr>\n",
              "    <tr>\n",
              "      <th>3</th>\n",
              "      <td>94.35</td>\n",
              "      <td>Algeria</td>\n",
              "    </tr>\n",
              "    <tr>\n",
              "      <th>4</th>\n",
              "      <td>79.36</td>\n",
              "      <td>Algeria</td>\n",
              "    </tr>\n",
              "    <tr>\n",
              "      <th>...</th>\n",
              "      <td>...</td>\n",
              "      <td>...</td>\n",
              "    </tr>\n",
              "    <tr>\n",
              "      <th>60938</th>\n",
              "      <td>46.00</td>\n",
              "      <td>Zimbabwe</td>\n",
              "    </tr>\n",
              "    <tr>\n",
              "      <th>60939</th>\n",
              "      <td>3.33</td>\n",
              "      <td>Zimbabwe</td>\n",
              "    </tr>\n",
              "    <tr>\n",
              "      <th>60940</th>\n",
              "      <td>4.00</td>\n",
              "      <td>Zimbabwe</td>\n",
              "    </tr>\n",
              "    <tr>\n",
              "      <th>60941</th>\n",
              "      <td>0.11</td>\n",
              "      <td>Zimbabwe</td>\n",
              "    </tr>\n",
              "    <tr>\n",
              "      <th>60942</th>\n",
              "      <td>0.05</td>\n",
              "      <td>Zimbabwe</td>\n",
              "    </tr>\n",
              "  </tbody>\n",
              "</table>\n",
              "<p>60943 rows × 2 columns</p>\n",
              "</div>\n",
              "      <button class=\"colab-df-convert\" onclick=\"convertToInteractive('df-6d8c3a5a-e6d5-404e-9aa2-d278239f5207')\"\n",
              "              title=\"Convert this dataframe to an interactive table.\"\n",
              "              style=\"display:none;\">\n",
              "        \n",
              "  <svg xmlns=\"http://www.w3.org/2000/svg\" height=\"24px\"viewBox=\"0 0 24 24\"\n",
              "       width=\"24px\">\n",
              "    <path d=\"M0 0h24v24H0V0z\" fill=\"none\"/>\n",
              "    <path d=\"M18.56 5.44l.94 2.06.94-2.06 2.06-.94-2.06-.94-.94-2.06-.94 2.06-2.06.94zm-11 1L8.5 8.5l.94-2.06 2.06-.94-2.06-.94L8.5 2.5l-.94 2.06-2.06.94zm10 10l.94 2.06.94-2.06 2.06-.94-2.06-.94-.94-2.06-.94 2.06-2.06.94z\"/><path d=\"M17.41 7.96l-1.37-1.37c-.4-.4-.92-.59-1.43-.59-.52 0-1.04.2-1.43.59L10.3 9.45l-7.72 7.72c-.78.78-.78 2.05 0 2.83L4 21.41c.39.39.9.59 1.41.59.51 0 1.02-.2 1.41-.59l7.78-7.78 2.81-2.81c.8-.78.8-2.07 0-2.86zM5.41 20L4 18.59l7.72-7.72 1.47 1.35L5.41 20z\"/>\n",
              "  </svg>\n",
              "      </button>\n",
              "      \n",
              "  <style>\n",
              "    .colab-df-container {\n",
              "      display:flex;\n",
              "      flex-wrap:wrap;\n",
              "      gap: 12px;\n",
              "    }\n",
              "\n",
              "    .colab-df-convert {\n",
              "      background-color: #E8F0FE;\n",
              "      border: none;\n",
              "      border-radius: 50%;\n",
              "      cursor: pointer;\n",
              "      display: none;\n",
              "      fill: #1967D2;\n",
              "      height: 32px;\n",
              "      padding: 0 0 0 0;\n",
              "      width: 32px;\n",
              "    }\n",
              "\n",
              "    .colab-df-convert:hover {\n",
              "      background-color: #E2EBFA;\n",
              "      box-shadow: 0px 1px 2px rgba(60, 64, 67, 0.3), 0px 1px 3px 1px rgba(60, 64, 67, 0.15);\n",
              "      fill: #174EA6;\n",
              "    }\n",
              "\n",
              "    [theme=dark] .colab-df-convert {\n",
              "      background-color: #3B4455;\n",
              "      fill: #D2E3FC;\n",
              "    }\n",
              "\n",
              "    [theme=dark] .colab-df-convert:hover {\n",
              "      background-color: #434B5C;\n",
              "      box-shadow: 0px 1px 3px 1px rgba(0, 0, 0, 0.15);\n",
              "      filter: drop-shadow(0px 1px 2px rgba(0, 0, 0, 0.3));\n",
              "      fill: #FFFFFF;\n",
              "    }\n",
              "  </style>\n",
              "\n",
              "      <script>\n",
              "        const buttonEl =\n",
              "          document.querySelector('#df-6d8c3a5a-e6d5-404e-9aa2-d278239f5207 button.colab-df-convert');\n",
              "        buttonEl.style.display =\n",
              "          google.colab.kernel.accessAllowed ? 'block' : 'none';\n",
              "\n",
              "        async function convertToInteractive(key) {\n",
              "          const element = document.querySelector('#df-6d8c3a5a-e6d5-404e-9aa2-d278239f5207');\n",
              "          const dataTable =\n",
              "            await google.colab.kernel.invokeFunction('convertToInteractive',\n",
              "                                                     [key], {});\n",
              "          if (!dataTable) return;\n",
              "\n",
              "          const docLinkHtml = 'Like what you see? Visit the ' +\n",
              "            '<a target=\"_blank\" href=https://colab.research.google.com/notebooks/data_table.ipynb>data table notebook</a>'\n",
              "            + ' to learn more about interactive tables.';\n",
              "          element.innerHTML = '';\n",
              "          dataTable['output_type'] = 'display_data';\n",
              "          await google.colab.output.renderOutput(dataTable, element);\n",
              "          const docLink = document.createElement('div');\n",
              "          docLink.innerHTML = docLinkHtml;\n",
              "          element.appendChild(docLink);\n",
              "        }\n",
              "      </script>\n",
              "    </div>\n",
              "  </div>\n",
              "  "
            ]
          },
          "metadata": {},
          "execution_count": 12
        },
        {
          "output_type": "stream",
          "name": "stdout",
          "text": [
            "Warning: total number of rows (60943) exceeds max_rows (20000). Limiting to first (20000) rows.\n"
          ]
        }
      ]
    },
    {
      "cell_type": "code",
      "source": [
        "df_group = df.groupby(\"Area\")[\"Y2015\"].sum()"
      ],
      "metadata": {
        "id": "kPgEv8ul9Wo6"
      },
      "execution_count": null,
      "outputs": []
    },
    {
      "cell_type": "code",
      "source": [
        "print(df_group)"
      ],
      "metadata": {
        "colab": {
          "base_uri": "https://localhost:8080/"
        },
        "id": "CM0PgUnR-dcJ",
        "outputId": "60fa951f-9fff-4d47-b3db-07c7308b26c6"
      },
      "execution_count": null,
      "outputs": [
        {
          "output_type": "stream",
          "name": "stdout",
          "text": [
            "Area\n",
            "Algeria                         324058.40\n",
            "Angola                          209565.67\n",
            "Benin                           108181.13\n",
            "Botswana                         23024.85\n",
            "Burkina Faso                    102701.22\n",
            "Cabo Verde                       14538.93\n",
            "Cameroon                        225220.72\n",
            "Central African Republic         28885.34\n",
            "Chad                             65835.88\n",
            "Comoros                             41.34\n",
            "Congo                            40255.51\n",
            "Côte d'Ivoire                   211591.29\n",
            "Djibouti                         23690.16\n",
            "Egypt                           868218.73\n",
            "Eswatini                         54072.07\n",
            "Ethiopia                        429139.33\n",
            "Ethiopia PDR                         0.00\n",
            "Gabon                            28367.30\n",
            "Gambia                           19665.39\n",
            "Ghana                           311092.13\n",
            "Guinea                           92803.39\n",
            "Guinea-Bissau                    17990.06\n",
            "Kenya                           265506.19\n",
            "Lesotho                          17965.84\n",
            "Liberia                          28698.10\n",
            "Madagascar                      126674.90\n",
            "Malawi                          167989.09\n",
            "Mali                            132456.58\n",
            "Mauritania                       61909.99\n",
            "Mauritius                        53372.42\n",
            "Morocco                         412473.80\n",
            "Mozambique                      158231.17\n",
            "Namibia                          30687.90\n",
            "Niger                           117834.65\n",
            "Nigeria                        1414362.83\n",
            "Rwanda                           70138.83\n",
            "Sao Tome and Principe            12386.93\n",
            "Senegal                          91939.14\n",
            "Seychelles                         358.20\n",
            "Sierra Leone                     62523.14\n",
            "South Africa                    468352.18\n",
            "Sudan                           230652.54\n",
            "Sudan (former)                       0.00\n",
            "Togo                             47834.59\n",
            "Tunisia                         128211.41\n",
            "Uganda                          220615.72\n",
            "United Republic of Tanzania     341969.46\n",
            "Zambia                           96214.00\n",
            "Zimbabwe                         74041.79\n",
            "Name: Y2015, dtype: float64\n"
          ]
        }
      ]
    },
    {
      "cell_type": "code",
      "source": [
        "df_grouped = df.groupby(by=\"Element\")"
      ],
      "metadata": {
        "id": "bwOj8hMy-tVf"
      },
      "execution_count": null,
      "outputs": []
    },
    {
      "cell_type": "code",
      "source": [
        "print(df_group)"
      ],
      "metadata": {
        "colab": {
          "base_uri": "https://localhost:8080/"
        },
        "id": "wNw_yq31-0Xf",
        "outputId": "21f4d47c-3a6c-454d-f848-45e385e8afbc"
      },
      "execution_count": null,
      "outputs": [
        {
          "output_type": "stream",
          "name": "stdout",
          "text": [
            "<pandas.core.groupby.generic.DataFrameGroupBy object at 0x7f339c30c2e0>\n"
          ]
        }
      ]
    },
    {
      "cell_type": "code",
      "source": [
        "df_grouped = df.groupby(by=\"Element\")[\"Y2017\"].sum()"
      ],
      "metadata": {
        "id": "qo_RlU0p_gNf"
      },
      "execution_count": null,
      "outputs": []
    },
    {
      "cell_type": "code",
      "source": [
        "print(df_grouped)"
      ],
      "metadata": {
        "colab": {
          "base_uri": "https://localhost:8080/"
        },
        "id": "e_iVKpGx_jC5",
        "outputId": "d5f74719-452c-433f-c6c3-67e632e2cce5"
      },
      "execution_count": null,
      "outputs": [
        {
          "output_type": "stream",
          "name": "stdout",
          "text": [
            "Element\n",
            "Domestic supply quantity                  2088198.10\n",
            "Export Quantity                            182338.80\n",
            "Fat supply quantity (g/capita/day)          10253.84\n",
            "Feed                                       223705.68\n",
            "Food                                      1258888.28\n",
            "Food supply (kcal/capita/day)              454681.00\n",
            "Food supply quantity (kg/capita/yr)         48690.04\n",
            "Import Quantity                            294559.09\n",
            "Losses                                     160614.00\n",
            "Other uses (non-food)                       91645.97\n",
            "Processing                                 292836.00\n",
            "Production                                2030056.89\n",
            "Protein supply quantity (g/capita/day)      11842.45\n",
            "Residuals                                   35500.00\n",
            "Seed                                        24870.14\n",
            "Stock Variation                             54316.91\n",
            "Total Population - Both sexes             1112641.00\n",
            "Tourist consumption                            91.00\n",
            "Name: Y2017, dtype: float64\n"
          ]
        }
      ]
    },
    {
      "cell_type": "code",
      "source": [
        "df_group = df.groupby(\"Item\")[\"Y2015\"].sum()"
      ],
      "metadata": {
        "id": "LHAsWpOpARkN"
      },
      "execution_count": null,
      "outputs": []
    },
    {
      "cell_type": "code",
      "source": [
        "print(df_group)"
      ],
      "metadata": {
        "colab": {
          "base_uri": "https://localhost:8080/"
        },
        "id": "rYaVZ_CZAi4o",
        "outputId": "8ad73317-557a-493b-f149-97dd31b13a1d"
      },
      "execution_count": null,
      "outputs": [
        {
          "output_type": "stream",
          "name": "stdout",
          "text": [
            "Area\n",
            "Algeria                         341729.98\n",
            "Angola                          235206.68\n",
            "Benin                           124960.70\n",
            "Botswana                         23129.08\n",
            "Burkina Faso                    112970.72\n",
            "Cabo Verde                       14622.60\n",
            "Cameroon                        233022.93\n",
            "Central African Republic         30101.57\n",
            "Chad                             72282.24\n",
            "Comoros                             59.84\n",
            "Congo                            42005.53\n",
            "Côte d'Ivoire                   227018.00\n",
            "Djibouti                         23718.96\n",
            "Egypt                           852652.92\n",
            "Eswatini                         55045.07\n",
            "Ethiopia                        450788.86\n",
            "Ethiopia PDR                         0.00\n",
            "Gabon                            28339.38\n",
            "Gambia                           23513.80\n",
            "Ghana                           358915.64\n",
            "Guinea                          103262.08\n",
            "Guinea-Bissau                    18997.92\n",
            "Kenya                           270916.80\n",
            "Lesotho                          19109.23\n",
            "Liberia                          29629.83\n",
            "Madagascar                      134576.44\n",
            "Malawi                          187366.09\n",
            "Mali                            159026.42\n",
            "Mauritania                      157479.95\n",
            "Mauritius                        47150.91\n",
            "Morocco                         399271.27\n",
            "Mozambique                      164934.05\n",
            "Namibia                          29350.04\n",
            "Niger                           133982.86\n",
            "Nigeria                        1499774.24\n",
            "Rwanda                           74839.08\n",
            "Sao Tome and Principe            12806.49\n",
            "Senegal                          95493.82\n",
            "Seychelles                         442.34\n",
            "Sierra Leone                     55981.73\n",
            "South Africa                    509787.97\n",
            "Sudan                           268054.39\n",
            "Sudan (former)                       0.00\n",
            "Togo                             54872.00\n",
            "Tunisia                         127343.17\n",
            "Uganda                          222147.25\n",
            "United Republic of Tanzania     349763.41\n",
            "Zambia                          101604.27\n",
            "Zimbabwe                         76581.41\n",
            "Name: Y2018, dtype: float64\n"
          ]
        }
      ]
    },
    {
      "cell_type": "code",
      "source": [
        "df_group1 = df.groupby(\"Area\")[\"Y2018\"].sum()"
      ],
      "metadata": {
        "id": "7bjlJiJTAeZJ"
      },
      "execution_count": null,
      "outputs": []
    },
    {
      "cell_type": "code",
      "source": [
        "print(df_group1)"
      ],
      "metadata": {
        "colab": {
          "base_uri": "https://localhost:8080/"
        },
        "id": "dlpwjoxtApAF",
        "outputId": "4ca4c05e-5b3e-4540-aa27-1f37b8695db2"
      },
      "execution_count": null,
      "outputs": [
        {
          "output_type": "stream",
          "name": "stdout",
          "text": [
            "Area\n",
            "Algeria                         341729.98\n",
            "Angola                          235206.68\n",
            "Benin                           124960.70\n",
            "Botswana                         23129.08\n",
            "Burkina Faso                    112970.72\n",
            "Cabo Verde                       14622.60\n",
            "Cameroon                        233022.93\n",
            "Central African Republic         30101.57\n",
            "Chad                             72282.24\n",
            "Comoros                             59.84\n",
            "Congo                            42005.53\n",
            "Côte d'Ivoire                   227018.00\n",
            "Djibouti                         23718.96\n",
            "Egypt                           852652.92\n",
            "Eswatini                         55045.07\n",
            "Ethiopia                        450788.86\n",
            "Ethiopia PDR                         0.00\n",
            "Gabon                            28339.38\n",
            "Gambia                           23513.80\n",
            "Ghana                           358915.64\n",
            "Guinea                          103262.08\n",
            "Guinea-Bissau                    18997.92\n",
            "Kenya                           270916.80\n",
            "Lesotho                          19109.23\n",
            "Liberia                          29629.83\n",
            "Madagascar                      134576.44\n",
            "Malawi                          187366.09\n",
            "Mali                            159026.42\n",
            "Mauritania                      157479.95\n",
            "Mauritius                        47150.91\n",
            "Morocco                         399271.27\n",
            "Mozambique                      164934.05\n",
            "Namibia                          29350.04\n",
            "Niger                           133982.86\n",
            "Nigeria                        1499774.24\n",
            "Rwanda                           74839.08\n",
            "Sao Tome and Principe            12806.49\n",
            "Senegal                          95493.82\n",
            "Seychelles                         442.34\n",
            "Sierra Leone                     55981.73\n",
            "South Africa                    509787.97\n",
            "Sudan                           268054.39\n",
            "Sudan (former)                       0.00\n",
            "Togo                             54872.00\n",
            "Tunisia                         127343.17\n",
            "Uganda                          222147.25\n",
            "United Republic of Tanzania     349763.41\n",
            "Zambia                          101604.27\n",
            "Zimbabwe                         76581.41\n",
            "Name: Y2018, dtype: float64\n"
          ]
        }
      ]
    }
  ]
}